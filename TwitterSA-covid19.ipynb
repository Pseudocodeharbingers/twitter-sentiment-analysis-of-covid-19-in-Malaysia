{
 "cells": [
  {
   "cell_type": "code",
   "execution_count": 1,
   "metadata": {},
   "outputs": [
    {
     "name": "stderr",
     "output_type": "stream",
     "text": [
      "[nltk_data] Downloading package stopwords to\n",
      "[nltk_data]     C:\\Users\\User\\AppData\\Roaming\\nltk_data...\n",
      "[nltk_data]   Package stopwords is already up-to-date!\n",
      "[nltk_data] Downloading package punkt to\n",
      "[nltk_data]     C:\\Users\\User\\AppData\\Roaming\\nltk_data...\n",
      "[nltk_data]   Package punkt is already up-to-date!\n"
     ]
    },
    {
     "data": {
      "text/plain": [
       "True"
      ]
     },
     "execution_count": 1,
     "metadata": {},
     "output_type": "execute_result"
    }
   ],
   "source": [
    "import numpy as np\n",
    "import pandas as pd\n",
    "import re\n",
    "from textblob import TextBlob\n",
    "import matplotlib.pyplot as plt\n",
    "import nltk\n",
    "from nltk.tokenize import word_tokenize\n",
    "from string import punctuation \n",
    "from nltk.corpus import stopwords\n",
    "from sklearn.model_selection import train_test_split\n",
    "from sklearn import preprocessing\n",
    "from collections import Counter\n",
    "nltk.download('stopwords')\n",
    "nltk.download('punkt')"
   ]
  },
  {
   "cell_type": "code",
   "execution_count": 2,
   "metadata": {},
   "outputs": [],
   "source": [
    "feb_tweets = pd.read_csv('feb_data.csv')\n",
    "march_tweets = pd.read_csv('march_data.csv')\n",
    "april_tweets = pd.read_csv('april_data.csv')"
   ]
  },
  {
   "cell_type": "code",
   "execution_count": 3,
   "metadata": {},
   "outputs": [],
   "source": [
    "feb_tweets.columns, march_tweets.columns, april_tweets.columns = ['Number', \"Date\", \"Text\"], ['Number', \"Date\", \"Text\"], ['Number', \"Date\", \"Text\"]\n",
    "feb_tweets = feb_tweets.drop(columns = [\"Number\"])\n",
    "march_tweets = march_tweets.drop(columns = [\"Number\"])\n",
    "april_tweets = april_tweets.drop(columns = [\"Number\"])"
   ]
  },
  {
   "cell_type": "code",
   "execution_count": 4,
   "metadata": {},
   "outputs": [],
   "source": [
    "feb_tweets[\"Month\"] = \"February\"\n",
    "march_tweets[\"Month\"] = \"March\"\n",
    "april_tweets[\"Month\"] = \"April\"\n",
    "\n",
    "data = pd.concat([feb_tweets, march_tweets, april_tweets], ignore_index=True)"
   ]
  },
  {
   "cell_type": "markdown",
   "metadata": {},
   "source": [
    "## Exploratory Data Analysis"
   ]
  },
  {
   "cell_type": "markdown",
   "metadata": {},
   "source": [
    "### Data Cleaning"
   ]
  },
  {
   "cell_type": "code",
   "execution_count": 5,
   "metadata": {},
   "outputs": [],
   "source": [
    "new_stopwords = set(stopwords.words('english') + list(punctuation) + ['AT_USER','URL'])"
   ]
  },
  {
   "cell_type": "code",
   "execution_count": 6,
   "metadata": {},
   "outputs": [],
   "source": [
    "def cleanText(text):\n",
    "    text = text.lower() # Makes text lowercase\n",
    "    text = re.sub('https?:\\/\\/\\S+', '', text) # Removes hyperlinks\n",
    "    text = re.sub('#', '', text) # Removes hashtags\n",
    "    text = re.sub('@[A-Za-z0–9]+', '', text) # Removes mentions (@)\n",
    "    text = re.sub('RT[\\s]+', '', text) # Removes \"RT\"\n",
    "    return text"
   ]
  },
  {
   "cell_type": "code",
   "execution_count": 7,
   "metadata": {},
   "outputs": [],
   "source": [
    "def convertToList(text):\n",
    "    text = word_tokenize(text)\n",
    "    return [word for word in text if word not in new_stopwords] "
   ]
  },
  {
   "cell_type": "code",
   "execution_count": 8,
   "metadata": {},
   "outputs": [],
   "source": [
    "data[\"Text\"] = data[\"Text\"].apply(cleanText)\n",
    "data[\"List of Words\"] = data[\"Text\"].apply(convertToList)"
   ]
  },
  {
   "cell_type": "code",
   "execution_count": 9,
   "metadata": {},
   "outputs": [],
   "source": [
    "def cleanDate(date):\n",
    "    month = date[5:7]\n",
    "    day = date[8:10]\n",
    "    \n",
    "    if month[0] == \"0\":\n",
    "        month = month[1]\n",
    "    if day[0] == \"0\":\n",
    "        day = day[1]\n",
    "    \n",
    "    return month + \"/\" + day + \"/20\""
   ]
  },
  {
   "cell_type": "code",
   "execution_count": 10,
   "metadata": {},
   "outputs": [],
   "source": [
    "data[\"Date\"] = data[\"Date\"].apply(cleanDate)"
   ]
  },
  {
   "cell_type": "code",
   "execution_count": 11,
   "metadata": {},
   "outputs": [
    {
     "data": {
      "text/html": [
       "<div>\n",
       "<style scoped>\n",
       "    .dataframe tbody tr th:only-of-type {\n",
       "        vertical-align: middle;\n",
       "    }\n",
       "\n",
       "    .dataframe tbody tr th {\n",
       "        vertical-align: top;\n",
       "    }\n",
       "\n",
       "    .dataframe thead th {\n",
       "        text-align: right;\n",
       "    }\n",
       "</style>\n",
       "<table border=\"1\" class=\"dataframe\">\n",
       "  <thead>\n",
       "    <tr style=\"text-align: right;\">\n",
       "      <th></th>\n",
       "      <th>Date</th>\n",
       "      <th>Text</th>\n",
       "      <th>Month</th>\n",
       "      <th>List of Words</th>\n",
       "    </tr>\n",
       "  </thead>\n",
       "  <tbody>\n",
       "    <tr>\n",
       "      <td>7495</td>\n",
       "      <td>4/4/20</td>\n",
       "      <td>breaking: new york \"accidentally\" delivered co...</td>\n",
       "      <td>April</td>\n",
       "      <td>[breaking, new, york, ``, accidentally, '', de...</td>\n",
       "    </tr>\n",
       "    <tr>\n",
       "      <td>7496</td>\n",
       "      <td>4/4/20</td>\n",
       "      <td>with fewer people around because of coronaviru...</td>\n",
       "      <td>April</td>\n",
       "      <td>[fewer, people, around, coronavirus, endangere...</td>\n",
       "    </tr>\n",
       "    <tr>\n",
       "      <td>7497</td>\n",
       "      <td>4/4/20</td>\n",
       "      <td>if joe biden is talking about the trump admini...</td>\n",
       "      <td>April</td>\n",
       "      <td>[joe, biden, talking, trump, administration, ’...</td>\n",
       "    </tr>\n",
       "    <tr>\n",
       "      <td>7498</td>\n",
       "      <td>4/4/20</td>\n",
       "      <td>in case you know anyone looking for a job, par...</td>\n",
       "      <td>April</td>\n",
       "      <td>[case, know, anyone, looking, job, partners, h...</td>\n",
       "    </tr>\n",
       "    <tr>\n",
       "      <td>7499</td>\n",
       "      <td>4/4/20</td>\n",
       "      <td>atleast now we all know where lisbon got its c...</td>\n",
       "      <td>April</td>\n",
       "      <td>[atleast, know, lisbon, got, corona, virus, mo...</td>\n",
       "    </tr>\n",
       "  </tbody>\n",
       "</table>\n",
       "</div>"
      ],
      "text/plain": [
       "        Date                                               Text  Month  \\\n",
       "7495  4/4/20  breaking: new york \"accidentally\" delivered co...  April   \n",
       "7496  4/4/20  with fewer people around because of coronaviru...  April   \n",
       "7497  4/4/20  if joe biden is talking about the trump admini...  April   \n",
       "7498  4/4/20  in case you know anyone looking for a job, par...  April   \n",
       "7499  4/4/20  atleast now we all know where lisbon got its c...  April   \n",
       "\n",
       "                                          List of Words  \n",
       "7495  [breaking, new, york, ``, accidentally, '', de...  \n",
       "7496  [fewer, people, around, coronavirus, endangere...  \n",
       "7497  [joe, biden, talking, trump, administration, ’...  \n",
       "7498  [case, know, anyone, looking, job, partners, h...  \n",
       "7499  [atleast, know, lisbon, got, corona, virus, mo...  "
      ]
     },
     "execution_count": 11,
     "metadata": {},
     "output_type": "execute_result"
    }
   ],
   "source": [
    "data.tail()"
   ]
  },
  {
   "cell_type": "markdown",
   "metadata": {},
   "source": [
    "## Feature Engineering"
   ]
  },
  {
   "cell_type": "markdown",
   "metadata": {},
   "source": [
    "### Polarity"
   ]
  },
  {
   "cell_type": "code",
   "execution_count": 12,
   "metadata": {},
   "outputs": [],
   "source": [
    "# Returns the polarity of the Tweet's text\n",
    "def getPolarity(text):\n",
    "   return  TextBlob(text).sentiment.polarity"
   ]
  },
  {
   "cell_type": "code",
   "execution_count": 13,
   "metadata": {},
   "outputs": [],
   "source": [
    "# Creates a new column containing the subjectivity of every Tweet\n",
    "data['Polarity'] = data['Text'].apply(getPolarity)"
   ]
  },
  {
   "cell_type": "markdown",
   "metadata": {},
   "source": [
    "### Subjectivity"
   ]
  },
  {
   "cell_type": "code",
   "execution_count": 14,
   "metadata": {},
   "outputs": [],
   "source": [
    "# Returns the subjectivity of the Tweet's text\n",
    "def getSubjectivity(text):\n",
    "   return TextBlob(text).sentiment.subjectivity"
   ]
  },
  {
   "cell_type": "code",
   "execution_count": 15,
   "metadata": {},
   "outputs": [],
   "source": [
    "# Creates a new column containing the subjectivity of every Tweet\n",
    "data[\"Subjectivity\"] = data[\"Text\"].apply(getSubjectivity)"
   ]
  },
  {
   "cell_type": "markdown",
   "metadata": {},
   "source": [
    "## Sentiment Analysis"
   ]
  },
  {
   "cell_type": "code",
   "execution_count": 16,
   "metadata": {},
   "outputs": [],
   "source": [
    "# Returns the analysis of each Tweet's text\n",
    "def getSentiment(polarity):\n",
    "    if polarity < 0:\n",
    "      return 'Negative'\n",
    "    elif polarity == 0:\n",
    "      return 'Neutral'\n",
    "    else:\n",
    "      return 'Positive'"
   ]
  },
  {
   "cell_type": "code",
   "execution_count": 17,
   "metadata": {},
   "outputs": [],
   "source": [
    "data['Analysis'] = data['Polarity'].apply(getSentiment)"
   ]
  },
  {
   "cell_type": "code",
   "execution_count": 18,
   "metadata": {},
   "outputs": [
    {
     "data": {
      "text/html": [
       "<div>\n",
       "<style scoped>\n",
       "    .dataframe tbody tr th:only-of-type {\n",
       "        vertical-align: middle;\n",
       "    }\n",
       "\n",
       "    .dataframe tbody tr th {\n",
       "        vertical-align: top;\n",
       "    }\n",
       "\n",
       "    .dataframe thead th {\n",
       "        text-align: right;\n",
       "    }\n",
       "</style>\n",
       "<table border=\"1\" class=\"dataframe\">\n",
       "  <thead>\n",
       "    <tr style=\"text-align: right;\">\n",
       "      <th></th>\n",
       "      <th>Date</th>\n",
       "      <th>Text</th>\n",
       "      <th>Month</th>\n",
       "      <th>List of Words</th>\n",
       "      <th>Polarity</th>\n",
       "      <th>Subjectivity</th>\n",
       "      <th>Analysis</th>\n",
       "    </tr>\n",
       "  </thead>\n",
       "  <tbody>\n",
       "    <tr>\n",
       "      <td>0</td>\n",
       "      <td>2/19/20</td>\n",
       "      <td>head nurse cai liping of wuchang hospital died...</td>\n",
       "      <td>February</td>\n",
       "      <td>[head, nurse, cai, liping, wuchang, hospital, ...</td>\n",
       "      <td>0.000000</td>\n",
       "      <td>0.095833</td>\n",
       "      <td>Neutral</td>\n",
       "    </tr>\n",
       "    <tr>\n",
       "      <td>1</td>\n",
       "      <td>2/19/20</td>\n",
       "      <td>this bacteria-killing uv light robot helps a w...</td>\n",
       "      <td>February</td>\n",
       "      <td>[bacteria-killing, uv, light, robot, helps, wu...</td>\n",
       "      <td>0.400000</td>\n",
       "      <td>0.700000</td>\n",
       "      <td>Positive</td>\n",
       "    </tr>\n",
       "    <tr>\n",
       "      <td>2</td>\n",
       "      <td>2/19/20</td>\n",
       "      <td>for those that are into the business side of s...</td>\n",
       "      <td>February</td>\n",
       "      <td>[business, side, sneakers, adidas, business, r...</td>\n",
       "      <td>-0.126852</td>\n",
       "      <td>0.354630</td>\n",
       "      <td>Negative</td>\n",
       "    </tr>\n",
       "    <tr>\n",
       "      <td>3</td>\n",
       "      <td>2/19/20</td>\n",
       "      <td>how to fight against coronavirus in japan</td>\n",
       "      <td>February</td>\n",
       "      <td>[fight, coronavirus, japan]</td>\n",
       "      <td>0.000000</td>\n",
       "      <td>0.000000</td>\n",
       "      <td>Neutral</td>\n",
       "    </tr>\n",
       "    <tr>\n",
       "      <td>4</td>\n",
       "      <td>2/19/20</td>\n",
       "      <td>diseases like covid-19 are deadlier in non-dem...</td>\n",
       "      <td>February</td>\n",
       "      <td>[diseases, like, covid-19, deadlier, non-democ...</td>\n",
       "      <td>0.627500</td>\n",
       "      <td>0.832500</td>\n",
       "      <td>Positive</td>\n",
       "    </tr>\n",
       "  </tbody>\n",
       "</table>\n",
       "</div>"
      ],
      "text/plain": [
       "      Date                                               Text     Month  \\\n",
       "0  2/19/20  head nurse cai liping of wuchang hospital died...  February   \n",
       "1  2/19/20  this bacteria-killing uv light robot helps a w...  February   \n",
       "2  2/19/20  for those that are into the business side of s...  February   \n",
       "3  2/19/20          how to fight against coronavirus in japan  February   \n",
       "4  2/19/20  diseases like covid-19 are deadlier in non-dem...  February   \n",
       "\n",
       "                                       List of Words  Polarity  Subjectivity  \\\n",
       "0  [head, nurse, cai, liping, wuchang, hospital, ...  0.000000      0.095833   \n",
       "1  [bacteria-killing, uv, light, robot, helps, wu...  0.400000      0.700000   \n",
       "2  [business, side, sneakers, adidas, business, r... -0.126852      0.354630   \n",
       "3                        [fight, coronavirus, japan]  0.000000      0.000000   \n",
       "4  [diseases, like, covid-19, deadlier, non-democ...  0.627500      0.832500   \n",
       "\n",
       "   Analysis  \n",
       "0   Neutral  \n",
       "1  Positive  \n",
       "2  Negative  \n",
       "3   Neutral  \n",
       "4  Positive  "
      ]
     },
     "execution_count": 18,
     "metadata": {},
     "output_type": "execute_result"
    }
   ],
   "source": [
    "data.head()"
   ]
  },
  {
   "cell_type": "markdown",
   "metadata": {},
   "source": [
    "## Analysis"
   ]
  },
  {
   "cell_type": "markdown",
   "metadata": {},
   "source": [
    "### Analysis: Full Dataset"
   ]
  },
  {
   "cell_type": "code",
   "execution_count": 19,
   "metadata": {},
   "outputs": [],
   "source": [
    "positive_tweets = data.loc[data[\"Analysis\"] == \"Positive\"]\n",
    "neutral_tweets = data.loc[data[\"Analysis\"] == \"Neutral\"]\n",
    "negative_tweets = data.loc[data[\"Analysis\"] == \"Negative\"]"
   ]
  },
  {
   "cell_type": "code",
   "execution_count": 20,
   "metadata": {},
   "outputs": [],
   "source": [
    "positive_tweets.reset_index(drop=True, inplace=True)\n",
    "neutral_tweets.reset_index(drop=True, inplace=True)\n",
    "negative_tweets.reset_index(drop=True, inplace=True)"
   ]
  },
  {
   "cell_type": "code",
   "execution_count": 21,
   "metadata": {},
   "outputs": [
    {
     "data": {
      "text/html": [
       "<div>\n",
       "<style scoped>\n",
       "    .dataframe tbody tr th:only-of-type {\n",
       "        vertical-align: middle;\n",
       "    }\n",
       "\n",
       "    .dataframe tbody tr th {\n",
       "        vertical-align: top;\n",
       "    }\n",
       "\n",
       "    .dataframe thead th {\n",
       "        text-align: right;\n",
       "    }\n",
       "</style>\n",
       "<table border=\"1\" class=\"dataframe\">\n",
       "  <thead>\n",
       "    <tr style=\"text-align: right;\">\n",
       "      <th></th>\n",
       "      <th>Date</th>\n",
       "      <th>Text</th>\n",
       "      <th>Month</th>\n",
       "      <th>List of Words</th>\n",
       "      <th>Polarity</th>\n",
       "      <th>Subjectivity</th>\n",
       "      <th>Analysis</th>\n",
       "    </tr>\n",
       "  </thead>\n",
       "  <tbody>\n",
       "    <tr>\n",
       "      <td>0</td>\n",
       "      <td>2/19/20</td>\n",
       "      <td>this bacteria-killing uv light robot helps a w...</td>\n",
       "      <td>February</td>\n",
       "      <td>[bacteria-killing, uv, light, robot, helps, wu...</td>\n",
       "      <td>0.4000</td>\n",
       "      <td>0.7000</td>\n",
       "      <td>Positive</td>\n",
       "    </tr>\n",
       "    <tr>\n",
       "      <td>1</td>\n",
       "      <td>2/19/20</td>\n",
       "      <td>diseases like covid-19 are deadlier in non-dem...</td>\n",
       "      <td>February</td>\n",
       "      <td>[diseases, like, covid-19, deadlier, non-democ...</td>\n",
       "      <td>0.6275</td>\n",
       "      <td>0.8325</td>\n",
       "      <td>Positive</td>\n",
       "    </tr>\n",
       "    <tr>\n",
       "      <td>2</td>\n",
       "      <td>2/19/20</td>\n",
       "      <td>the world's most comprehensive site addressing...</td>\n",
       "      <td>February</td>\n",
       "      <td>[world, 's, comprehensive, site, addressing, a...</td>\n",
       "      <td>0.5000</td>\n",
       "      <td>0.5000</td>\n",
       "      <td>Positive</td>\n",
       "    </tr>\n",
       "    <tr>\n",
       "      <td>3</td>\n",
       "      <td>2/19/20</td>\n",
       "      <td>. \"12,000 people have died from influenza betw...</td>\n",
       "      <td>February</td>\n",
       "      <td>[``, 12,000, people, died, influenza, oct., 1,...</td>\n",
       "      <td>0.1600</td>\n",
       "      <td>0.5400</td>\n",
       "      <td>Positive</td>\n",
       "    </tr>\n",
       "    <tr>\n",
       "      <td>4</td>\n",
       "      <td>2/19/20</td>\n",
       "      <td>coronavirus chaos can prompt a needed rethink ...</td>\n",
       "      <td>February</td>\n",
       "      <td>[coronavirus, chaos, prompt, needed, rethink, ...</td>\n",
       "      <td>0.1000</td>\n",
       "      <td>0.1000</td>\n",
       "      <td>Positive</td>\n",
       "    </tr>\n",
       "  </tbody>\n",
       "</table>\n",
       "</div>"
      ],
      "text/plain": [
       "      Date                                               Text     Month  \\\n",
       "0  2/19/20  this bacteria-killing uv light robot helps a w...  February   \n",
       "1  2/19/20  diseases like covid-19 are deadlier in non-dem...  February   \n",
       "2  2/19/20  the world's most comprehensive site addressing...  February   \n",
       "3  2/19/20  . \"12,000 people have died from influenza betw...  February   \n",
       "4  2/19/20  coronavirus chaos can prompt a needed rethink ...  February   \n",
       "\n",
       "                                       List of Words  Polarity  Subjectivity  \\\n",
       "0  [bacteria-killing, uv, light, robot, helps, wu...    0.4000        0.7000   \n",
       "1  [diseases, like, covid-19, deadlier, non-democ...    0.6275        0.8325   \n",
       "2  [world, 's, comprehensive, site, addressing, a...    0.5000        0.5000   \n",
       "3  [``, 12,000, people, died, influenza, oct., 1,...    0.1600        0.5400   \n",
       "4  [coronavirus, chaos, prompt, needed, rethink, ...    0.1000        0.1000   \n",
       "\n",
       "   Analysis  \n",
       "0  Positive  \n",
       "1  Positive  \n",
       "2  Positive  \n",
       "3  Positive  \n",
       "4  Positive  "
      ]
     },
     "execution_count": 21,
     "metadata": {},
     "output_type": "execute_result"
    }
   ],
   "source": [
    "positive_tweets.head()"
   ]
  },
  {
   "cell_type": "code",
   "execution_count": 22,
   "metadata": {},
   "outputs": [
    {
     "data": {
      "text/plain": [
       "0    head nurse cai liping of wuchang hospital died...\n",
       "1            how to fight against coronavirus in japan\n",
       "2    indonesian mfa is pressuring japanese authorit...\n",
       "3    someone on nm senate floor just asked if \"coro...\n",
       "4    \"open access epidemiological data from the cov...\n",
       "Name: Text, dtype: object"
      ]
     },
     "execution_count": 22,
     "metadata": {},
     "output_type": "execute_result"
    }
   ],
   "source": [
    "neutral_tweets[\"Text\"].head()"
   ]
  },
  {
   "cell_type": "code",
   "execution_count": 23,
   "metadata": {},
   "outputs": [
    {
     "data": {
      "text/html": [
       "<div>\n",
       "<style scoped>\n",
       "    .dataframe tbody tr th:only-of-type {\n",
       "        vertical-align: middle;\n",
       "    }\n",
       "\n",
       "    .dataframe tbody tr th {\n",
       "        vertical-align: top;\n",
       "    }\n",
       "\n",
       "    .dataframe thead th {\n",
       "        text-align: right;\n",
       "    }\n",
       "</style>\n",
       "<table border=\"1\" class=\"dataframe\">\n",
       "  <thead>\n",
       "    <tr style=\"text-align: right;\">\n",
       "      <th></th>\n",
       "      <th>Date</th>\n",
       "      <th>Text</th>\n",
       "      <th>Month</th>\n",
       "      <th>List of Words</th>\n",
       "      <th>Polarity</th>\n",
       "      <th>Subjectivity</th>\n",
       "      <th>Analysis</th>\n",
       "    </tr>\n",
       "  </thead>\n",
       "  <tbody>\n",
       "    <tr>\n",
       "      <td>0</td>\n",
       "      <td>2/19/20</td>\n",
       "      <td>for those that are into the business side of s...</td>\n",
       "      <td>February</td>\n",
       "      <td>[business, side, sneakers, adidas, business, r...</td>\n",
       "      <td>-0.126852</td>\n",
       "      <td>0.354630</td>\n",
       "      <td>Negative</td>\n",
       "    </tr>\n",
       "    <tr>\n",
       "      <td>1</td>\n",
       "      <td>2/19/20</td>\n",
       "      <td>infectivity 60% those who need hospital care 1...</td>\n",
       "      <td>February</td>\n",
       "      <td>[infectivity, 60, need, hospital, care, 15, 2,...</td>\n",
       "      <td>-0.482143</td>\n",
       "      <td>0.628571</td>\n",
       "      <td>Negative</td>\n",
       "    </tr>\n",
       "    <tr>\n",
       "      <td>2</td>\n",
       "      <td>2/19/20</td>\n",
       "      <td>im rly annoyed with coronavirus racism my frie...</td>\n",
       "      <td>February</td>\n",
       "      <td>[im, rly, annoyed, coronavirus, racism, friend...</td>\n",
       "      <td>-0.104762</td>\n",
       "      <td>0.176190</td>\n",
       "      <td>Negative</td>\n",
       "    </tr>\n",
       "    <tr>\n",
       "      <td>3</td>\n",
       "      <td>2/19/20</td>\n",
       "      <td>\"one flu is bad enough. a second flu would be ...</td>\n",
       "      <td>February</td>\n",
       "      <td>[``, one, flu, bad, enough, second, flu, would...</td>\n",
       "      <td>-0.201477</td>\n",
       "      <td>0.575455</td>\n",
       "      <td>Negative</td>\n",
       "    </tr>\n",
       "    <tr>\n",
       "      <td>4</td>\n",
       "      <td>2/19/20</td>\n",
       "      <td>to all the xbots that couldn’t control your fa...</td>\n",
       "      <td>February</td>\n",
       "      <td>[xbots, ’, control, fanboyism, coronavirus, th...</td>\n",
       "      <td>-0.200000</td>\n",
       "      <td>0.800000</td>\n",
       "      <td>Negative</td>\n",
       "    </tr>\n",
       "  </tbody>\n",
       "</table>\n",
       "</div>"
      ],
      "text/plain": [
       "      Date                                               Text     Month  \\\n",
       "0  2/19/20  for those that are into the business side of s...  February   \n",
       "1  2/19/20  infectivity 60% those who need hospital care 1...  February   \n",
       "2  2/19/20  im rly annoyed with coronavirus racism my frie...  February   \n",
       "3  2/19/20  \"one flu is bad enough. a second flu would be ...  February   \n",
       "4  2/19/20  to all the xbots that couldn’t control your fa...  February   \n",
       "\n",
       "                                       List of Words  Polarity  Subjectivity  \\\n",
       "0  [business, side, sneakers, adidas, business, r... -0.126852      0.354630   \n",
       "1  [infectivity, 60, need, hospital, care, 15, 2,... -0.482143      0.628571   \n",
       "2  [im, rly, annoyed, coronavirus, racism, friend... -0.104762      0.176190   \n",
       "3  [``, one, flu, bad, enough, second, flu, would... -0.201477      0.575455   \n",
       "4  [xbots, ’, control, fanboyism, coronavirus, th... -0.200000      0.800000   \n",
       "\n",
       "   Analysis  \n",
       "0  Negative  \n",
       "1  Negative  \n",
       "2  Negative  \n",
       "3  Negative  \n",
       "4  Negative  "
      ]
     },
     "execution_count": 23,
     "metadata": {},
     "output_type": "execute_result"
    }
   ],
   "source": [
    "negative_tweets.head()"
   ]
  },
  {
   "cell_type": "code",
   "execution_count": 24,
   "metadata": {},
   "outputs": [
    {
     "data": {
      "image/png": "[encoded data removed]",
      "text/plain": [
       "<Figure size 504x360 with 1 Axes>"
      ]
     },
     "metadata": {
      "needs_background": "light"
     },
     "output_type": "display_data"
    },
    {
     "data": {
      "image/png": "[encoded data removed]",
      "text/plain": [
       "<Figure size 504x360 with 1 Axes>"
      ]
     },
     "metadata": {
      "needs_background": "light"
     },
     "output_type": "display_data"
    },
    {
     "data": {
      "image/png": "[encoded data removed]",
      "text/plain": [
       "<Figure size 504x360 with 1 Axes>"
      ]
     },
     "metadata": {
      "needs_background": "light"
     },
     "output_type": "display_data"
    }
   ],
   "source": [
    "# Positive Tweets\n",
    "plt.figure(figsize=(7,5))\n",
    "plt.scatter(positive_tweets[\"Polarity\"], positive_tweets[\"Subjectivity\"],  c='green')\n",
    "plt.title('Sentiment Analysis of Positive Tweets') \n",
    "plt.xlabel('Polarity') \n",
    "plt.ylabel('Subjectivity') \n",
    "plt.show()\n",
    "\n",
    "# Neutral Tweets\n",
    "plt.figure(figsize=(7,5))\n",
    "plt.scatter(neutral_tweets[\"Polarity\"], neutral_tweets[\"Subjectivity\"])\n",
    "plt.title('Sentiment Analysis of Neutral Tweets') \n",
    "plt.xlabel('Polarity') \n",
    "plt.ylabel('Subjectivity') \n",
    "plt.show()\n",
    "\n",
    "# Negative Tweets\n",
    "plt.figure(figsize=(7,5))\n",
    "plt.scatter(negative_tweets[\"Polarity\"], negative_tweets[\"Subjectivity\"], c='red')\n",
    "plt.title('Sentiment Analysis of Negative Tweets') \n",
    "plt.xlabel('Polarity') \n",
    "plt.ylabel('Subjectivity')\n",
    "plt.show()"
   ]
  },
  {
   "cell_type": "code",
   "execution_count": 25,
   "metadata": {},
   "outputs": [
    {
     "name": "stdout",
     "output_type": "stream",
     "text": [
      "Positive    3417\n",
      "Neutral     2265\n",
      "Negative    1818\n",
      "Name: Analysis, dtype: int64\n",
      "Total: 7500\n",
      "\n",
      "Percentage of positive Tweets: 0.4556\n",
      "\n",
      "Percentage of neutral Tweets: 0.302\n",
      "\n",
      "Percentage of negative Tweets: 0.2424\n"
     ]
    }
   ],
   "source": [
    "print(data[\"Analysis\"].value_counts())\n",
    "print(\"Total:\", data.shape[0])\n",
    "print()\n",
    "\n",
    "print(\"Percentage of positive Tweets:\", (positive_tweets.shape[0] / data.shape[0]))\n",
    "print()\n",
    "\n",
    "print(\"Percentage of neutral Tweets:\", (neutral_tweets.shape[0] / data.shape[0]))\n",
    "print()\n",
    "\n",
    "print(\"Percentage of negative Tweets:\", (negative_tweets.shape[0] / data.shape[0]))"
   ]
  },
  {
   "cell_type": "code",
   "execution_count": 26,
   "metadata": {},
   "outputs": [
    {
     "data": {
      "image/png": "[encoded data removed]",
      "text/plain": [
       "<Figure size 504x360 with 1 Axes>"
      ]
     },
     "metadata": {
      "needs_background": "light"
     },
     "output_type": "display_data"
    }
   ],
   "source": [
    "plt.figure(figsize=(7,5))\n",
    "plt.title(\"Sentiment Analysis: Full Dataset\")\n",
    "plt.xlabel(\"Sentiment\")\n",
    "plt.ylabel(\"Number of Tweets\")\n",
    "data[\"Analysis\"].value_counts().plot(kind = \"bar\", color=['green','yellow','red'])\n",
    "plt.show()"
   ]
  },
  {
   "cell_type": "code",
   "execution_count": 27,
   "metadata": {},
   "outputs": [
    {
     "data": {
      "image/png": "[encoded data removed]",
      "text/plain": [
       "<Figure size 504x360 with 1 Axes>"
      ]
     },
     "metadata": {
      "needs_background": "light"
     },
     "output_type": "display_data"
    }
   ],
   "source": [
    "plt.figure(figsize=(7,5))\n",
    "plt.title(\"Percentage of Sentiment Analysis : Full Dataset\")\n",
    "plt.xlabel(\"Sentiment\")\n",
    "plt.ylabel(\"Percentage of Total Tweets\")\n",
    "((data[\"Analysis\"].value_counts())/data.shape[0]).plot(kind = \"bar\",  color=['green','yellow','red'])\n",
    "plt.show()"
   ]
  },
  {
   "cell_type": "markdown",
   "metadata": {},
   "source": [
    "### Analysis: Monthly"
   ]
  },
  {
   "cell_type": "code",
   "execution_count": 28,
   "metadata": {},
   "outputs": [],
   "source": [
    "months = list(dict.fromkeys(data[\"Month\"].values))\n",
    "sentiments = list(dict.fromkeys(data[\"Analysis\"].values))\n",
    "sentiment_colors = {\"Positive\": \"Green\", \"Negative\": \"Red\", \"Neutral\": \"Yellow\"}"
   ]
  },
  {
   "cell_type": "code",
   "execution_count": 29,
   "metadata": {},
   "outputs": [
    {
     "data": {
      "image/png": "[encoded data removed]",
      "text/plain": [
       "<Figure size 432x288 with 1 Axes>"
      ]
     },
     "metadata": {
      "needs_background": "light"
     },
     "output_type": "display_data"
    },
    {
     "data": {
      "image/png": "[encoded data removed]",
      "text/plain": [
       "<Figure size 432x288 with 1 Axes>"
      ]
     },
     "metadata": {
      "needs_background": "light"
     },
     "output_type": "display_data"
    },
    {
     "data": {
      "image/png": "[encoded data removed]",
      "text/plain": [
       "<Figure size 432x288 with 1 Axes>"
      ]
     },
     "metadata": {
      "needs_background": "light"
     },
     "output_type": "display_data"
    }
   ],
   "source": [
    "for month in months:\n",
    "    month_tweets = data.loc[data[\"Month\"] == month]\n",
    "    plt.title(\"Sentiment Analysis: \" + month)\n",
    "    plt.xlabel(\"Sentiment\")\n",
    "    plt.ylabel(\"Percentage of Total Tweets\")\n",
    "    ((month_tweets[\"Analysis\"].value_counts())/data.shape[0]).plot(kind = 'bar', color=['green','yellow','red'])\n",
    "    plt.show()"
   ]
  },
  {
   "cell_type": "code",
   "execution_count": 30,
   "metadata": {},
   "outputs": [
    {
     "data": {
      "image/png": "[encoded data removed]",
      "text/plain": [
       "<Figure size 432x288 with 1 Axes>"
      ]
     },
     "metadata": {
      "needs_background": "light"
     },
     "output_type": "display_data"
    }
   ],
   "source": [
    "plt.title(\"Sentiment Analysis\")\n",
    "plt.xlabel(\"Sentiment\")\n",
    "plt.ylabel(\"Percentage of Total Tweets\")\n",
    "    \n",
    "for sentiment in sentiments:\n",
    "    month_percentages = []\n",
    "    sentiment_tweets = data.loc[data[\"Analysis\"] == sentiment]\n",
    "    for month in months:\n",
    "        month_tweets = sentiment_tweets.loc[sentiment_tweets[\"Month\"] == month]\n",
    "        month_percentages.append(month_tweets[\"Analysis\"].value_counts()/data.shape[0])\n",
    "    plt.scatter(months, month_percentages, c = sentiment_colors[sentiment]) \n",
    "    plt.plot(months, month_percentages, c = sentiment_colors[sentiment])\n",
    "plt.show()"
   ]
  },
  {
   "cell_type": "markdown",
   "metadata": {},
   "source": [
    "### Training the model"
   ]
  },
  {
   "cell_type": "code",
   "execution_count": 127,
   "metadata": {},
   "outputs": [],
   "source": [
    "corpus = pd.read_csv(\"full_corpus.csv\")\n",
    "\n",
    "corpus[\"TweetText\"] = corpus[\"TweetText\"].apply(cleanText)\n",
    "corpus[\"List of Words\"] = corpus[\"TweetText\"].apply(convertToList)"
   ]
  },
  {
   "cell_type": "code",
   "execution_count": 128,
   "metadata": {},
   "outputs": [
    {
     "data": {
      "text/html": [
       "<div>\n",
       "<style scoped>\n",
       "    .dataframe tbody tr th:only-of-type {\n",
       "        vertical-align: middle;\n",
       "    }\n",
       "\n",
       "    .dataframe tbody tr th {\n",
       "        vertical-align: top;\n",
       "    }\n",
       "\n",
       "    .dataframe thead th {\n",
       "        text-align: right;\n",
       "    }\n",
       "</style>\n",
       "<table border=\"1\" class=\"dataframe\">\n",
       "  <thead>\n",
       "    <tr style=\"text-align: right;\">\n",
       "      <th></th>\n",
       "      <th>Topic</th>\n",
       "      <th>Sentiment</th>\n",
       "      <th>TweetId</th>\n",
       "      <th>TweetDate</th>\n",
       "      <th>TweetText</th>\n",
       "      <th>List of Words</th>\n",
       "    </tr>\n",
       "  </thead>\n",
       "  <tbody>\n",
       "    <tr>\n",
       "      <td>0</td>\n",
       "      <td>apple</td>\n",
       "      <td>positive</td>\n",
       "      <td>126415614616154112</td>\n",
       "      <td>Tue Oct 18 21:53:25 +0000 2011</td>\n",
       "      <td>now all  has to do is get swype on the iphone ...</td>\n",
       "      <td>[get, swype, iphone, crack, iphone]</td>\n",
       "    </tr>\n",
       "    <tr>\n",
       "      <td>1</td>\n",
       "      <td>apple</td>\n",
       "      <td>positive</td>\n",
       "      <td>126404574230740992</td>\n",
       "      <td>Tue Oct 18 21:09:33 +0000 2011</td>\n",
       "      <td>will be adding more carrier support to the ip...</td>\n",
       "      <td>[adding, carrier, support, iphone, 4s, announced]</td>\n",
       "    </tr>\n",
       "    <tr>\n",
       "      <td>2</td>\n",
       "      <td>apple</td>\n",
       "      <td>positive</td>\n",
       "      <td>126402758403305474</td>\n",
       "      <td>Tue Oct 18 21:02:20 +0000 2011</td>\n",
       "      <td>hilarious  video - guy does a duet with  's si...</td>\n",
       "      <td>[hilarious, video, guy, duet, 's, siri, pretty...</td>\n",
       "    </tr>\n",
       "    <tr>\n",
       "      <td>3</td>\n",
       "      <td>apple</td>\n",
       "      <td>positive</td>\n",
       "      <td>126397179614068736</td>\n",
       "      <td>Tue Oct 18 20:40:10 +0000 2011</td>\n",
       "      <td>you made it too easy for me to switch to  iph...</td>\n",
       "      <td>[made, easy, switch, iphone, see, ya]</td>\n",
       "    </tr>\n",
       "    <tr>\n",
       "      <td>4</td>\n",
       "      <td>apple</td>\n",
       "      <td>positive</td>\n",
       "      <td>126395626979196928</td>\n",
       "      <td>Tue Oct 18 20:34:00 +0000 2011</td>\n",
       "      <td>i just realized that the reason i got into twi...</td>\n",
       "      <td>[realized, reason, got, twitter, ios5, thanks]</td>\n",
       "    </tr>\n",
       "  </tbody>\n",
       "</table>\n",
       "</div>"
      ],
      "text/plain": [
       "   Topic Sentiment             TweetId                       TweetDate  \\\n",
       "0  apple  positive  126415614616154112  Tue Oct 18 21:53:25 +0000 2011   \n",
       "1  apple  positive  126404574230740992  Tue Oct 18 21:09:33 +0000 2011   \n",
       "2  apple  positive  126402758403305474  Tue Oct 18 21:02:20 +0000 2011   \n",
       "3  apple  positive  126397179614068736  Tue Oct 18 20:40:10 +0000 2011   \n",
       "4  apple  positive  126395626979196928  Tue Oct 18 20:34:00 +0000 2011   \n",
       "\n",
       "                                           TweetText  \\\n",
       "0  now all  has to do is get swype on the iphone ...   \n",
       "1   will be adding more carrier support to the ip...   \n",
       "2  hilarious  video - guy does a duet with  's si...   \n",
       "3   you made it too easy for me to switch to  iph...   \n",
       "4  i just realized that the reason i got into twi...   \n",
       "\n",
       "                                       List of Words  \n",
       "0                [get, swype, iphone, crack, iphone]  \n",
       "1  [adding, carrier, support, iphone, 4s, announced]  \n",
       "2  [hilarious, video, guy, duet, 's, siri, pretty...  \n",
       "3              [made, easy, switch, iphone, see, ya]  \n",
       "4     [realized, reason, got, twitter, ios5, thanks]  "
      ]
     },
     "execution_count": 128,
     "metadata": {},
     "output_type": "execute_result"
    }
   ],
   "source": [
    "corpus.head()"
   ]
  },
  {
   "cell_type": "code",
   "execution_count": 130,
   "metadata": {},
   "outputs": [],
   "source": [
    "training_data, testing_data = train_test_split(corpus, test_size = 0.05)"
   ]
  },
  {
   "cell_type": "code",
   "execution_count": 131,
   "metadata": {},
   "outputs": [],
   "source": [
    "training_data_list = []\n",
    "for index, row in training_data.iterrows():\n",
    "    training_data_list.append((row[\"TweetText\"], row[\"Sentiment\"]))\n",
    "\n",
    "testing_data_list = []\n",
    "for index, row in testing_data.iterrows():\n",
    "    testing_data_list.append((row[\"TweetText\"], row[\"Sentiment\"]))"
   ]
  },
  {
   "cell_type": "code",
   "execution_count": 132,
   "metadata": {},
   "outputs": [],
   "source": [
    "def build(input_data):\n",
    "    world_list = []\n",
    "    \n",
    "    for (words, sentiment) in input_data:\n",
    "        world_list.extend(words)\n",
    "\n",
    "    words = nltk.FreqDist(world_list)\n",
    "    word_features = words.keys()\n",
    "    \n",
    "    return word_features"
   ]
  },
  {
   "cell_type": "code",
   "execution_count": 133,
   "metadata": {},
   "outputs": [],
   "source": [
    "def get_features(text):\n",
    "    words = set(text)\n",
    "    features = {}\n",
    "    \n",
    "    for word in word_features:\n",
    "        features['contains(%s)' % word] = (word in words)\n",
    "        \n",
    "    return features "
   ]
  },
  {
   "cell_type": "code",
   "execution_count": 134,
   "metadata": {},
   "outputs": [],
   "source": [
    "word_features = build(training_data_list)\n",
    "training_features = nltk.classify.apply_features(get_features, training_data_list)"
   ]
  },
  {
   "cell_type": "code",
   "execution_count": 135,
   "metadata": {},
   "outputs": [],
   "source": [
    "naive_bayes_classifier = nltk.NaiveBayesClassifier.train(training_features)"
   ]
  },
  {
   "cell_type": "code",
   "execution_count": 136,
   "metadata": {},
   "outputs": [],
   "source": [
    "classifier_result_labels = [naive_bayes_classifier.classify(get_features(tweet[0])) for tweet in testing_data_list]\n"
   ]
  },
  {
   "cell_type": "code",
   "execution_count": 137,
   "metadata": {},
   "outputs": [
    {
     "name": "stdout",
     "output_type": "stream",
     "text": [
      "Percentage of Positive Sentiments: 0.03125\n",
      "\n",
      "Percentage of Negative Sentiments: 0.0625\n"
     ]
    }
   ],
   "source": [
    "print(\"Percentage of Positive Sentiments:\", classifier_result_labels.count('positive') / testing_data.shape[0])\n",
    "print()\n",
    "print(\"Percentage of Negative Sentiments:\", classifier_result_labels.count('negative') / testing_data.shape[0])\n"
   ]
  },
  {
   "cell_type": "markdown",
   "metadata": {},
   "source": [
    "### Applying the Model to Covid-19 Twitter Data"
   ]
  },
  {
   "cell_type": "code",
   "execution_count": 138,
   "metadata": {},
   "outputs": [],
   "source": [
    "training_data, testing_data = train_test_split(data, test_size = 0.2)"
   ]
  },
  {
   "cell_type": "code",
   "execution_count": 139,
   "metadata": {},
   "outputs": [],
   "source": [
    "word_features = build(training_data_list)\n",
    "training_features = nltk.classify.apply_features(get_features, training_data_list)"
   ]
  },
  {
   "cell_type": "code",
   "execution_count": 140,
   "metadata": {},
   "outputs": [],
   "source": [
    "naive_bayes_classifier = nltk.NaiveBayesClassifier.train(training_features)"
   ]
  },
  {
   "cell_type": "code",
   "execution_count": 141,
   "metadata": {},
   "outputs": [],
   "source": [
    "covid_classifier_labels = [naive_bayes_classifier.classify(get_features(row[3])) for index, row in data.iterrows()]"
   ]
  },
  {
   "cell_type": "code",
   "execution_count": 142,
   "metadata": {},
   "outputs": [],
   "source": [
    "data[\"Classification\"] = covid_classifier_labels\n",
    "data[\"Ensemble\"] = covid_classifier_labels # temporary"
   ]
  },
  {
   "cell_type": "code",
   "execution_count": 143,
   "metadata": {},
   "outputs": [],
   "source": [
    "for index, row in data.iterrows():\n",
    "    if row[\"Polarity\"] < -0.2:\n",
    "        row[\"Ensemble\"] = \"negative\"\n",
    "    elif row[\"Polarity\"] > 0.2 and row[\"Classification\"] == \"neutral\":\n",
    "        row[\"Ensemble\"] = \"positive\""
   ]
  },
  {
   "cell_type": "code",
   "execution_count": 144,
   "metadata": {},
   "outputs": [],
   "source": [
    "data.loc[data[\"Polarity\"] < -0.2, \"Ensemble\"] = \"negative\"\n",
    "data.loc[data[\"Polarity\"] > 0.2, \"Ensemble\"] = \"positive\""
   ]
  },
  {
   "cell_type": "code",
   "execution_count": 145,
   "metadata": {
    "scrolled": true
   },
   "outputs": [
    {
     "name": "stdout",
     "output_type": "stream",
     "text": [
      "irrelevant    3901\n",
      "positive      1659\n",
      "neutral       1318\n",
      "negative       622\n",
      "Name: Ensemble, dtype: int64\n"
     ]
    }
   ],
   "source": [
    "print(data[\"Ensemble\"].value_counts())"
   ]
  },
  {
   "cell_type": "markdown",
   "metadata": {},
   "source": [
    "## Covid Cases"
   ]
  },
  {
   "cell_type": "code",
   "execution_count": 146,
   "metadata": {},
   "outputs": [],
   "source": [
    "confirmed = pd.read_csv('covid_confirmed.csv')\n",
    "recovered = pd.read_csv('covid_recovered.csv')\n",
    "deaths = pd.read_csv('covid_deaths.csv')"
   ]
  },
  {
   "cell_type": "code",
   "execution_count": 147,
   "metadata": {},
   "outputs": [
    {
     "data": {
      "text/html": [
       "<div>\n",
       "<style scoped>\n",
       "    .dataframe tbody tr th:only-of-type {\n",
       "        vertical-align: middle;\n",
       "    }\n",
       "\n",
       "    .dataframe tbody tr th {\n",
       "        vertical-align: top;\n",
       "    }\n",
       "\n",
       "    .dataframe thead th {\n",
       "        text-align: right;\n",
       "    }\n",
       "</style>\n",
       "<table border=\"1\" class=\"dataframe\">\n",
       "  <thead>\n",
       "    <tr style=\"text-align: right;\">\n",
       "      <th></th>\n",
       "      <th>Province/State</th>\n",
       "      <th>Country/Region</th>\n",
       "      <th>Lat</th>\n",
       "      <th>Long</th>\n",
       "      <th>1/22/20</th>\n",
       "      <th>1/23/20</th>\n",
       "      <th>1/24/20</th>\n",
       "      <th>1/25/20</th>\n",
       "      <th>1/26/20</th>\n",
       "      <th>1/27/20</th>\n",
       "      <th>...</th>\n",
       "      <th>5/1/20</th>\n",
       "      <th>5/2/20</th>\n",
       "      <th>5/3/20</th>\n",
       "      <th>5/4/20</th>\n",
       "      <th>5/5/20</th>\n",
       "      <th>5/6/20</th>\n",
       "      <th>5/7/20</th>\n",
       "      <th>5/8/20</th>\n",
       "      <th>5/9/20</th>\n",
       "      <th>5/10/20</th>\n",
       "    </tr>\n",
       "  </thead>\n",
       "  <tbody>\n",
       "    <tr>\n",
       "      <td>0</td>\n",
       "      <td>NaN</td>\n",
       "      <td>Afghanistan</td>\n",
       "      <td>33.0000</td>\n",
       "      <td>65.0000</td>\n",
       "      <td>0</td>\n",
       "      <td>0</td>\n",
       "      <td>0</td>\n",
       "      <td>0</td>\n",
       "      <td>0</td>\n",
       "      <td>0</td>\n",
       "      <td>...</td>\n",
       "      <td>2335</td>\n",
       "      <td>2469</td>\n",
       "      <td>2704</td>\n",
       "      <td>2894</td>\n",
       "      <td>3224</td>\n",
       "      <td>3392</td>\n",
       "      <td>3563</td>\n",
       "      <td>3778</td>\n",
       "      <td>4033</td>\n",
       "      <td>4402</td>\n",
       "    </tr>\n",
       "    <tr>\n",
       "      <td>1</td>\n",
       "      <td>NaN</td>\n",
       "      <td>Albania</td>\n",
       "      <td>41.1533</td>\n",
       "      <td>20.1683</td>\n",
       "      <td>0</td>\n",
       "      <td>0</td>\n",
       "      <td>0</td>\n",
       "      <td>0</td>\n",
       "      <td>0</td>\n",
       "      <td>0</td>\n",
       "      <td>...</td>\n",
       "      <td>782</td>\n",
       "      <td>789</td>\n",
       "      <td>795</td>\n",
       "      <td>803</td>\n",
       "      <td>820</td>\n",
       "      <td>832</td>\n",
       "      <td>842</td>\n",
       "      <td>850</td>\n",
       "      <td>856</td>\n",
       "      <td>868</td>\n",
       "    </tr>\n",
       "    <tr>\n",
       "      <td>2</td>\n",
       "      <td>NaN</td>\n",
       "      <td>Algeria</td>\n",
       "      <td>28.0339</td>\n",
       "      <td>1.6596</td>\n",
       "      <td>0</td>\n",
       "      <td>0</td>\n",
       "      <td>0</td>\n",
       "      <td>0</td>\n",
       "      <td>0</td>\n",
       "      <td>0</td>\n",
       "      <td>...</td>\n",
       "      <td>4154</td>\n",
       "      <td>4295</td>\n",
       "      <td>4474</td>\n",
       "      <td>4648</td>\n",
       "      <td>4838</td>\n",
       "      <td>4997</td>\n",
       "      <td>5182</td>\n",
       "      <td>5369</td>\n",
       "      <td>5558</td>\n",
       "      <td>5723</td>\n",
       "    </tr>\n",
       "    <tr>\n",
       "      <td>3</td>\n",
       "      <td>NaN</td>\n",
       "      <td>Andorra</td>\n",
       "      <td>42.5063</td>\n",
       "      <td>1.5218</td>\n",
       "      <td>0</td>\n",
       "      <td>0</td>\n",
       "      <td>0</td>\n",
       "      <td>0</td>\n",
       "      <td>0</td>\n",
       "      <td>0</td>\n",
       "      <td>...</td>\n",
       "      <td>745</td>\n",
       "      <td>747</td>\n",
       "      <td>748</td>\n",
       "      <td>750</td>\n",
       "      <td>751</td>\n",
       "      <td>751</td>\n",
       "      <td>752</td>\n",
       "      <td>752</td>\n",
       "      <td>754</td>\n",
       "      <td>755</td>\n",
       "    </tr>\n",
       "    <tr>\n",
       "      <td>4</td>\n",
       "      <td>NaN</td>\n",
       "      <td>Angola</td>\n",
       "      <td>-11.2027</td>\n",
       "      <td>17.8739</td>\n",
       "      <td>0</td>\n",
       "      <td>0</td>\n",
       "      <td>0</td>\n",
       "      <td>0</td>\n",
       "      <td>0</td>\n",
       "      <td>0</td>\n",
       "      <td>...</td>\n",
       "      <td>30</td>\n",
       "      <td>35</td>\n",
       "      <td>35</td>\n",
       "      <td>35</td>\n",
       "      <td>36</td>\n",
       "      <td>36</td>\n",
       "      <td>36</td>\n",
       "      <td>43</td>\n",
       "      <td>43</td>\n",
       "      <td>45</td>\n",
       "    </tr>\n",
       "  </tbody>\n",
       "</table>\n",
       "<p>5 rows × 114 columns</p>\n",
       "</div>"
      ],
      "text/plain": [
       "  Province/State Country/Region      Lat     Long  1/22/20  1/23/20  1/24/20  \\\n",
       "0            NaN    Afghanistan  33.0000  65.0000        0        0        0   \n",
       "1            NaN        Albania  41.1533  20.1683        0        0        0   \n",
       "2            NaN        Algeria  28.0339   1.6596        0        0        0   \n",
       "3            NaN        Andorra  42.5063   1.5218        0        0        0   \n",
       "4            NaN         Angola -11.2027  17.8739        0        0        0   \n",
       "\n",
       "   1/25/20  1/26/20  1/27/20  ...  5/1/20  5/2/20  5/3/20  5/4/20  5/5/20  \\\n",
       "0        0        0        0  ...    2335    2469    2704    2894    3224   \n",
       "1        0        0        0  ...     782     789     795     803     820   \n",
       "2        0        0        0  ...    4154    4295    4474    4648    4838   \n",
       "3        0        0        0  ...     745     747     748     750     751   \n",
       "4        0        0        0  ...      30      35      35      35      36   \n",
       "\n",
       "   5/6/20  5/7/20  5/8/20  5/9/20  5/10/20  \n",
       "0    3392    3563    3778    4033     4402  \n",
       "1     832     842     850     856      868  \n",
       "2    4997    5182    5369    5558     5723  \n",
       "3     751     752     752     754      755  \n",
       "4      36      36      43      43       45  \n",
       "\n",
       "[5 rows x 114 columns]"
      ]
     },
     "execution_count": 147,
     "metadata": {},
     "output_type": "execute_result"
    }
   ],
   "source": [
    "confirmed.head()"
   ]
  },
  {
   "cell_type": "code",
   "execution_count": 148,
   "metadata": {},
   "outputs": [],
   "source": [
    "confirmed_mas = confirmed.loc[confirmed[\"Country/Region\"] == \"Malaysia\"]\n",
    "deaths_mas = deaths.loc[deaths[\"Country/Region\"] == \"Malaysia\"]\n",
    "recovered_mas = recovered.loc[recovered[\"Country/Region\"] == \"Malaysia\"]"
   ]
  },
  {
   "cell_type": "code",
   "execution_count": 149,
   "metadata": {},
   "outputs": [
    {
     "data": {
      "text/html": [
       "<div>\n",
       "<style scoped>\n",
       "    .dataframe tbody tr th:only-of-type {\n",
       "        vertical-align: middle;\n",
       "    }\n",
       "\n",
       "    .dataframe tbody tr th {\n",
       "        vertical-align: top;\n",
       "    }\n",
       "\n",
       "    .dataframe thead th {\n",
       "        text-align: right;\n",
       "    }\n",
       "</style>\n",
       "<table border=\"1\" class=\"dataframe\">\n",
       "  <thead>\n",
       "    <tr style=\"text-align: right;\">\n",
       "      <th></th>\n",
       "      <th>Province/State</th>\n",
       "      <th>Country/Region</th>\n",
       "      <th>Lat</th>\n",
       "      <th>Long</th>\n",
       "      <th>1/22/20</th>\n",
       "      <th>1/23/20</th>\n",
       "      <th>1/24/20</th>\n",
       "      <th>1/25/20</th>\n",
       "      <th>1/26/20</th>\n",
       "      <th>1/27/20</th>\n",
       "      <th>...</th>\n",
       "      <th>5/1/20</th>\n",
       "      <th>5/2/20</th>\n",
       "      <th>5/3/20</th>\n",
       "      <th>5/4/20</th>\n",
       "      <th>5/5/20</th>\n",
       "      <th>5/6/20</th>\n",
       "      <th>5/7/20</th>\n",
       "      <th>5/8/20</th>\n",
       "      <th>5/9/20</th>\n",
       "      <th>5/10/20</th>\n",
       "    </tr>\n",
       "  </thead>\n",
       "  <tbody>\n",
       "    <tr>\n",
       "      <td>153</td>\n",
       "      <td>NaN</td>\n",
       "      <td>Malaysia</td>\n",
       "      <td>2.5</td>\n",
       "      <td>112.5</td>\n",
       "      <td>0</td>\n",
       "      <td>0</td>\n",
       "      <td>0</td>\n",
       "      <td>3</td>\n",
       "      <td>4</td>\n",
       "      <td>4</td>\n",
       "      <td>...</td>\n",
       "      <td>6071</td>\n",
       "      <td>6176</td>\n",
       "      <td>6298</td>\n",
       "      <td>6353</td>\n",
       "      <td>6383</td>\n",
       "      <td>6428</td>\n",
       "      <td>6467</td>\n",
       "      <td>6535</td>\n",
       "      <td>6589</td>\n",
       "      <td>6656</td>\n",
       "    </tr>\n",
       "  </tbody>\n",
       "</table>\n",
       "<p>1 rows × 114 columns</p>\n",
       "</div>"
      ],
      "text/plain": [
       "    Province/State Country/Region  Lat   Long  1/22/20  1/23/20  1/24/20  \\\n",
       "153            NaN       Malaysia  2.5  112.5        0        0        0   \n",
       "\n",
       "     1/25/20  1/26/20  1/27/20  ...  5/1/20  5/2/20  5/3/20  5/4/20  5/5/20  \\\n",
       "153        3        4        4  ...    6071    6176    6298    6353    6383   \n",
       "\n",
       "     5/6/20  5/7/20  5/8/20  5/9/20  5/10/20  \n",
       "153    6428    6467    6535    6589     6656  \n",
       "\n",
       "[1 rows x 114 columns]"
      ]
     },
     "execution_count": 149,
     "metadata": {},
     "output_type": "execute_result"
    }
   ],
   "source": [
    "confirmed_mas.head()"
   ]
  },
  {
   "cell_type": "code",
   "execution_count": 150,
   "metadata": {},
   "outputs": [],
   "source": [
    "df_list = [confirmed_mas, deaths_mas, recovered_mas]\n",
    "\n",
    "for i in range(3):\n",
    "    df = df_list[i].drop(columns = [\"Province/State\", \"Country/Region\", \"Lat\", \"Long\"])\n",
    "    dates, values = [], []\n",
    "\n",
    "    for j in df:\n",
    "        dates.append(j)\n",
    "        values.append(df.iloc[0][j])\n",
    "        \n",
    "    new_data = {'Date': dates, 'Cases': values}\n",
    "    df_list[i] = pd.DataFrame(new_data)\n",
    "\n",
    "confirmed_mas = df_list[0]\n",
    "deaths_mas = df_list[1]\n",
    "recovered_mas = df_list[2]"
   ]
  },
  {
   "cell_type": "code",
   "execution_count": 151,
   "metadata": {},
   "outputs": [
    {
     "data": {
      "text/html": [
       "<div>\n",
       "<style scoped>\n",
       "    .dataframe tbody tr th:only-of-type {\n",
       "        vertical-align: middle;\n",
       "    }\n",
       "\n",
       "    .dataframe tbody tr th {\n",
       "        vertical-align: top;\n",
       "    }\n",
       "\n",
       "    .dataframe thead th {\n",
       "        text-align: right;\n",
       "    }\n",
       "</style>\n",
       "<table border=\"1\" class=\"dataframe\">\n",
       "  <thead>\n",
       "    <tr style=\"text-align: right;\">\n",
       "      <th></th>\n",
       "      <th>Date</th>\n",
       "      <th>Cases</th>\n",
       "    </tr>\n",
       "  </thead>\n",
       "  <tbody>\n",
       "    <tr>\n",
       "      <td>0</td>\n",
       "      <td>1/22/20</td>\n",
       "      <td>0</td>\n",
       "    </tr>\n",
       "    <tr>\n",
       "      <td>1</td>\n",
       "      <td>1/23/20</td>\n",
       "      <td>0</td>\n",
       "    </tr>\n",
       "    <tr>\n",
       "      <td>2</td>\n",
       "      <td>1/24/20</td>\n",
       "      <td>0</td>\n",
       "    </tr>\n",
       "    <tr>\n",
       "      <td>3</td>\n",
       "      <td>1/25/20</td>\n",
       "      <td>3</td>\n",
       "    </tr>\n",
       "    <tr>\n",
       "      <td>4</td>\n",
       "      <td>1/26/20</td>\n",
       "      <td>4</td>\n",
       "    </tr>\n",
       "  </tbody>\n",
       "</table>\n",
       "</div>"
      ],
      "text/plain": [
       "      Date  Cases\n",
       "0  1/22/20      0\n",
       "1  1/23/20      0\n",
       "2  1/24/20      0\n",
       "3  1/25/20      3\n",
       "4  1/26/20      4"
      ]
     },
     "execution_count": 151,
     "metadata": {},
     "output_type": "execute_result"
    }
   ],
   "source": [
    "confirmed_mas.head()"
   ]
  },
  {
   "cell_type": "code",
   "execution_count": 152,
   "metadata": {},
   "outputs": [
    {
     "data": {
      "image/png": "[encoded data removed]",
      "text/plain": [
       "<Figure size 432x288 with 1 Axes>"
      ]
     },
     "metadata": {
      "needs_background": "light"
     },
     "output_type": "display_data"
    }
   ],
   "source": [
    "plt.title(\"Confirmed Cases - Malaysia\")\n",
    "plt.xlabel(\"Date\")\n",
    "plt.ylabel(\"Cases\")\n",
    "plt.plot(confirmed_mas[\"Date\"], confirmed_mas[\"Cases\"])\n",
    "plt.show()"
   ]
  },
  {
   "cell_type": "code",
   "execution_count": 153,
   "metadata": {},
   "outputs": [
    {
     "data": {
      "image/png": "[encoded data removed]",
      "text/plain": [
       "<Figure size 432x288 with 1 Axes>"
      ]
     },
     "metadata": {
      "needs_background": "light"
     },
     "output_type": "display_data"
    }
   ],
   "source": [
    "plt.title(\"Deaths - Malaysia\")\n",
    "plt.xlabel(\"Date\")\n",
    "plt.ylabel(\"Cases\")\n",
    "plt.plot(deaths_mas[\"Date\"], deaths_mas[\"Cases\"])\n",
    "plt.show()"
   ]
  },
  {
   "cell_type": "code",
   "execution_count": 154,
   "metadata": {},
   "outputs": [
    {
     "data": {
      "image/png": "[encoded data removed]",
      "text/plain": [
       "<Figure size 432x288 with 1 Axes>"
      ]
     },
     "metadata": {
      "needs_background": "light"
     },
     "output_type": "display_data"
    }
   ],
   "source": [
    "plt.title(\"Recovered - Malaysia\")\n",
    "plt.xlabel(\"Date\")\n",
    "plt.ylabel(\"Cases\")\n",
    "plt.plot(recovered_mas[\"Date\"], recovered_mas[\"Cases\"])\n",
    "plt.show()"
   ]
  },
  {
   "cell_type": "code",
   "execution_count": 172,
   "metadata": {},
   "outputs": [],
   "source": [
    "def convertToWeekly(df):\n",
    "    new_dates, new_cases = [], []\n",
    "    count = 0\n",
    "\n",
    "    for index, row in df.iterrows():\n",
    "        if (count == 6):\n",
    "            new_dates.append(row[\"Date\"])\n",
    "            new_cases.append(row[\"Cases\"])\n",
    "            count = 0\n",
    "        else:\n",
    "            count += 1\n",
    "    \n",
    "    new_data = {'Date': new_dates, 'Cases': new_cases}\n",
    "    return pd.DataFrame(new_data)"
   ]
  },
  {
   "cell_type": "code",
   "execution_count": 173,
   "metadata": {},
   "outputs": [],
   "source": [
    "confirmed_mas_weekly = convertToWeekly(confirmed_mas)\n",
    "deaths_mas_weekly = convertToWeekly(deaths_mas)\n",
    "recovered_mas_weekly = convertToWeekly(recovered_mas)"
   ]
  },
  {
   "cell_type": "code",
   "execution_count": 174,
   "metadata": {},
   "outputs": [],
   "source": [
    "def convertToWeekly(df):\n",
    "    new_dates, new_cases = [], []\n",
    "    count = 0\n",
    "\n",
    "    for index, row in df.iterrows():\n",
    "        if (count == 6):\n",
    "            new_dates.append(row[\"Date\"])\n",
    "            new_cases.append(row[\"Cases\"])\n",
    "            count = 0\n",
    "        else:\n",
    "            count += 1\n",
    "    \n",
    "    new_data = {'Date': new_dates, 'Cases': new_cases}\n",
    "    return pd.DataFrame(new_data)"
   ]
  },
  {
   "cell_type": "code",
   "execution_count": 175,
   "metadata": {},
   "outputs": [
    {
     "data": {
      "text/html": [
       "<div>\n",
       "<style scoped>\n",
       "    .dataframe tbody tr th:only-of-type {\n",
       "        vertical-align: middle;\n",
       "    }\n",
       "\n",
       "    .dataframe tbody tr th {\n",
       "        vertical-align: top;\n",
       "    }\n",
       "\n",
       "    .dataframe thead th {\n",
       "        text-align: right;\n",
       "    }\n",
       "</style>\n",
       "<table border=\"1\" class=\"dataframe\">\n",
       "  <thead>\n",
       "    <tr style=\"text-align: right;\">\n",
       "      <th></th>\n",
       "      <th>Date</th>\n",
       "      <th>Cases</th>\n",
       "    </tr>\n",
       "  </thead>\n",
       "  <tbody>\n",
       "    <tr>\n",
       "      <td>0</td>\n",
       "      <td>1/28/20</td>\n",
       "      <td>4</td>\n",
       "    </tr>\n",
       "    <tr>\n",
       "      <td>1</td>\n",
       "      <td>2/4/20</td>\n",
       "      <td>10</td>\n",
       "    </tr>\n",
       "    <tr>\n",
       "      <td>2</td>\n",
       "      <td>2/11/20</td>\n",
       "      <td>18</td>\n",
       "    </tr>\n",
       "    <tr>\n",
       "      <td>3</td>\n",
       "      <td>2/18/20</td>\n",
       "      <td>22</td>\n",
       "    </tr>\n",
       "    <tr>\n",
       "      <td>4</td>\n",
       "      <td>2/25/20</td>\n",
       "      <td>22</td>\n",
       "    </tr>\n",
       "  </tbody>\n",
       "</table>\n",
       "</div>"
      ],
      "text/plain": [
       "      Date  Cases\n",
       "0  1/28/20      4\n",
       "1   2/4/20     10\n",
       "2  2/11/20     18\n",
       "3  2/18/20     22\n",
       "4  2/25/20     22"
      ]
     },
     "execution_count": 175,
     "metadata": {},
     "output_type": "execute_result"
    }
   ],
   "source": [
    "confirmed_mas_weekly.head()"
   ]
  },
  {
   "cell_type": "code",
   "execution_count": 176,
   "metadata": {},
   "outputs": [],
   "source": [
    "dates = list(confirmed_mas_weekly[\"Date\"].values)"
   ]
  },
  {
   "cell_type": "code",
   "execution_count": 177,
   "metadata": {},
   "outputs": [],
   "source": [
    "def getWeeklyResults(df):\n",
    "    results_list = []\n",
    "\n",
    "    for date in dates:\n",
    "        month = date[0:1]\n",
    "        day = \"\"\n",
    "        \n",
    "        if len(date) == 7:\n",
    "            day = date[2:4]\n",
    "        else:\n",
    "            day = date[2:3]\n",
    "                \n",
    "        date_results = []\n",
    "    \n",
    "        for index, row in df.iterrows():\n",
    "            tweet_date = row[\"Date\"]\n",
    "            tweet_month = date[0:1]\n",
    "            tweet_day = \"\" \n",
    "            \n",
    "            if len(tweet_date) == 7:\n",
    "                tweet_day = tweet_date[2:4]\n",
    "            else:\n",
    "                tweet_day = tweet_date[2:3]\n",
    "            \n",
    "            if tweet_month <= month:\n",
    "                if tweet_day <= day:\n",
    "                    date_results.append(row[\"Ensemble\"])\n",
    "        \n",
    "        results_list.append(date_results)\n",
    "    \n",
    "    return results_list"
   ]
  },
  {
   "cell_type": "code",
   "execution_count": 179,
   "metadata": {},
   "outputs": [],
   "source": [
    "weekly_results = getWeeklyResults(data)\n",
    "week_counts = {}\n",
    "for i in range(len(weekly_results)):\n",
    "    if (len(weekly_results[i]) != 0):\n",
    "        date = dates[i]\n",
    "        total_count = len(weekly_results[i])\n",
    "        counter = Counter(weekly_results[i])\n",
    "        positive_percent = counter[\"positive\"] / total_count\n",
    "        neutral_percent = counter[\"neutral\"] / total_count\n",
    "        negative_percent = counter[\"negative\"] / total_count\n",
    "        irrelevant_percent = counter[\"irrelevant\"] / total_count\n",
    "        week_counts[date] = [total_count, positive_percent, neutral_percent, negative_percent]"
   ]
  },
  {
   "cell_type": "code",
   "execution_count": 180,
   "metadata": {},
   "outputs": [],
   "source": [
    "def normalize(df):\n",
    "    df[\"Normalized\"] = (df[\"Cases\"] - df[\"Cases\"].min()) / (df[\"Cases\"].max() - df[\"Cases\"].min())\n",
    "    return df"
   ]
  },
  {
   "cell_type": "code",
   "execution_count": 181,
   "metadata": {},
   "outputs": [],
   "source": [
    "for df in [confirmed_mas_weekly, recovered_mas_weekly, deaths_mas_weekly]:\n",
    "    df = normalize(df)"
   ]
  },
  {
   "cell_type": "code",
   "execution_count": 182,
   "metadata": {},
   "outputs": [
    {
     "data": {
      "text/html": [
       "<div>\n",
       "<style scoped>\n",
       "    .dataframe tbody tr th:only-of-type {\n",
       "        vertical-align: middle;\n",
       "    }\n",
       "\n",
       "    .dataframe tbody tr th {\n",
       "        vertical-align: top;\n",
       "    }\n",
       "\n",
       "    .dataframe thead th {\n",
       "        text-align: right;\n",
       "    }\n",
       "</style>\n",
       "<table border=\"1\" class=\"dataframe\">\n",
       "  <thead>\n",
       "    <tr style=\"text-align: right;\">\n",
       "      <th></th>\n",
       "      <th>Date</th>\n",
       "      <th>Cases</th>\n",
       "    </tr>\n",
       "  </thead>\n",
       "  <tbody>\n",
       "    <tr>\n",
       "      <td>105</td>\n",
       "      <td>5/6/20</td>\n",
       "      <td>4702</td>\n",
       "    </tr>\n",
       "    <tr>\n",
       "      <td>106</td>\n",
       "      <td>5/7/20</td>\n",
       "      <td>4776</td>\n",
       "    </tr>\n",
       "    <tr>\n",
       "      <td>107</td>\n",
       "      <td>5/8/20</td>\n",
       "      <td>4864</td>\n",
       "    </tr>\n",
       "    <tr>\n",
       "      <td>108</td>\n",
       "      <td>5/9/20</td>\n",
       "      <td>4929</td>\n",
       "    </tr>\n",
       "    <tr>\n",
       "      <td>109</td>\n",
       "      <td>5/10/20</td>\n",
       "      <td>5025</td>\n",
       "    </tr>\n",
       "  </tbody>\n",
       "</table>\n",
       "</div>"
      ],
      "text/plain": [
       "        Date  Cases\n",
       "105   5/6/20   4702\n",
       "106   5/7/20   4776\n",
       "107   5/8/20   4864\n",
       "108   5/9/20   4929\n",
       "109  5/10/20   5025"
      ]
     },
     "execution_count": 182,
     "metadata": {},
     "output_type": "execute_result"
    }
   ],
   "source": [
    "recovered_mas.tail()"
   ]
  },
  {
   "cell_type": "code",
   "execution_count": 183,
   "metadata": {
    "scrolled": true
   },
   "outputs": [],
   "source": [
    "def clean(df):\n",
    "    for index, row in df.iterrows():\n",
    "        if row[\"Date\"] not in week_counts:\n",
    "            df = df[df.Date != row[\"Date\"]]\n",
    "    return df"
   ]
  },
  {
   "cell_type": "code",
   "execution_count": 184,
   "metadata": {},
   "outputs": [],
   "source": [
    "confirmed_mas_weekly = clean(confirmed_mas_weekly)\n",
    "recovered_mas_weekly = clean(recovered_mas_weekly)\n",
    "deaths_mas_weekly = clean(deaths_mas_weekly)"
   ]
  },
  {
   "cell_type": "code",
   "execution_count": 185,
   "metadata": {},
   "outputs": [],
   "source": [
    "def addTweetSentiment(df, i):\n",
    "    sentiment_list = []\n",
    "    \n",
    "    for index, row in df.iterrows():\n",
    "        if row[\"Date\"] in week_counts:\n",
    "            sentiments = week_counts[row[\"Date\"]]\n",
    "            sentiment_list.append(sentiments[i])\n",
    "        \n",
    "    df[str(i)] = sentiment_list\n",
    "    return df"
   ]
  },
  {
   "cell_type": "code",
   "execution_count": 186,
   "metadata": {},
   "outputs": [],
   "source": [
    "for i in range(1, 4, 1):\n",
    "    confirmed_mas_weekly = addTweetSentiment(confirmed_mas_weekly, i)\n",
    "    recovered_mas_weekly = addTweetSentiment(recovered_mas_weekly, i)\n",
    "    deaths_mas_weekly = addTweetSentiment(deaths_mas_weekly, i)"
   ]
  },
  {
   "cell_type": "code",
   "execution_count": 187,
   "metadata": {},
   "outputs": [
    {
     "data": {
      "text/html": [
       "<div>\n",
       "<style scoped>\n",
       "    .dataframe tbody tr th:only-of-type {\n",
       "        vertical-align: middle;\n",
       "    }\n",
       "\n",
       "    .dataframe tbody tr th {\n",
       "        vertical-align: top;\n",
       "    }\n",
       "\n",
       "    .dataframe thead th {\n",
       "        text-align: right;\n",
       "    }\n",
       "</style>\n",
       "<table border=\"1\" class=\"dataframe\">\n",
       "  <thead>\n",
       "    <tr style=\"text-align: right;\">\n",
       "      <th></th>\n",
       "      <th>Date</th>\n",
       "      <th>Cases</th>\n",
       "      <th>Normalized</th>\n",
       "      <th>1</th>\n",
       "      <th>2</th>\n",
       "      <th>3</th>\n",
       "    </tr>\n",
       "  </thead>\n",
       "  <tbody>\n",
       "    <tr>\n",
       "      <td>0</td>\n",
       "      <td>1/28/20</td>\n",
       "      <td>4</td>\n",
       "      <td>0.000000</td>\n",
       "      <td>0.219000</td>\n",
       "      <td>0.182600</td>\n",
       "      <td>0.084000</td>\n",
       "    </tr>\n",
       "    <tr>\n",
       "      <td>1</td>\n",
       "      <td>2/4/20</td>\n",
       "      <td>10</td>\n",
       "      <td>0.000941</td>\n",
       "      <td>0.217979</td>\n",
       "      <td>0.178346</td>\n",
       "      <td>0.085570</td>\n",
       "    </tr>\n",
       "    <tr>\n",
       "      <td>3</td>\n",
       "      <td>2/18/20</td>\n",
       "      <td>22</td>\n",
       "      <td>0.002822</td>\n",
       "      <td>0.218572</td>\n",
       "      <td>0.188567</td>\n",
       "      <td>0.088722</td>\n",
       "    </tr>\n",
       "    <tr>\n",
       "      <td>4</td>\n",
       "      <td>2/25/20</td>\n",
       "      <td>22</td>\n",
       "      <td>0.002822</td>\n",
       "      <td>0.219000</td>\n",
       "      <td>0.182600</td>\n",
       "      <td>0.084000</td>\n",
       "    </tr>\n",
       "    <tr>\n",
       "      <td>5</td>\n",
       "      <td>3/3/20</td>\n",
       "      <td>36</td>\n",
       "      <td>0.005016</td>\n",
       "      <td>0.219000</td>\n",
       "      <td>0.182600</td>\n",
       "      <td>0.084000</td>\n",
       "    </tr>\n",
       "  </tbody>\n",
       "</table>\n",
       "</div>"
      ],
      "text/plain": [
       "      Date  Cases  Normalized         1         2         3\n",
       "0  1/28/20      4    0.000000  0.219000  0.182600  0.084000\n",
       "1   2/4/20     10    0.000941  0.217979  0.178346  0.085570\n",
       "3  2/18/20     22    0.002822  0.218572  0.188567  0.088722\n",
       "4  2/25/20     22    0.002822  0.219000  0.182600  0.084000\n",
       "5   3/3/20     36    0.005016  0.219000  0.182600  0.084000"
      ]
     },
     "execution_count": 187,
     "metadata": {},
     "output_type": "execute_result"
    }
   ],
   "source": [
    "confirmed_mas_weekly.head()"
   ]
  },
  {
   "cell_type": "code",
   "execution_count": 188,
   "metadata": {},
   "outputs": [
    {
     "data": {
      "image/png": "[encoded data removed]",
      "text/plain": [
       "<Figure size 1440x432 with 1 Axes>"
      ]
     },
     "metadata": {
      "needs_background": "light"
     },
     "output_type": "display_data"
    }
   ],
   "source": [
    "plt.rcParams[\"figure.figsize\"] = (20,6)\n",
    "\n",
    "plt.title(\"Tweets and Confirmed Cases - MAS\")\n",
    "plt.xlabel(\"Date\")\n",
    "plt.ylabel(\"Percent\")\n",
    "\n",
    "plt.plot(confirmed_mas_weekly[\"Date\"], confirmed_mas_weekly[\"Normalized\"])\n",
    "for i in range(1, 4, 1):\n",
    "    plt.plot(confirmed_mas_weekly[\"Date\"], confirmed_mas_weekly[str(i)])\n",
    "plt.legend([\"Confirmed Cases\", \"Positive Tweets\", \"Neutral Tweets\", \"Negative Tweets\"])\n",
    "\n",
    "plt.show()"
   ]
  },
  {
   "cell_type": "code",
   "execution_count": 189,
   "metadata": {},
   "outputs": [
    {
     "data": {
      "image/png": "[encoded data removed]",
      "text/plain": [
       "<Figure size 1440x432 with 1 Axes>"
      ]
     },
     "metadata": {
      "needs_background": "light"
     },
     "output_type": "display_data"
    }
   ],
   "source": [
    "plt.rcParams[\"figure.figsize\"] = (20,6)\n",
    "\n",
    "plt.title(\"Tweets and Deaths - MAS\")\n",
    "plt.xlabel(\"Date\")\n",
    "plt.ylabel(\"Percent\")\n",
    "\n",
    "plt.plot(confirmed_mas_weekly[\"Date\"], confirmed_mas_weekly[\"Normalized\"])\n",
    "for i in range(1, 4, 1):\n",
    "    plt.plot(confirmed_mas_weekly[\"Date\"], confirmed_mas_weekly[str(i)])\n",
    "plt.legend([\"Confirmed Cases\", \"Positive Tweets\", \"Neutral Tweets\", \"Negative Tweets\"])\n",
    "\n",
    "plt.show()"
   ]
  },
  {
   "cell_type": "code",
   "execution_count": 190,
   "metadata": {},
   "outputs": [
    {
     "data": {
      "image/png": "[encoded data removed]",
      "text/plain": [
       "<Figure size 1440x432 with 1 Axes>"
      ]
     },
     "metadata": {
      "needs_background": "light"
     },
     "output_type": "display_data"
    }
   ],
   "source": [
    "plt.rcParams[\"figure.figsize\"] = (20,6)\n",
    "\n",
    "plt.title(\"Tweets and Recovered - MAS\")\n",
    "plt.xlabel(\"Date\")\n",
    "plt.ylabel(\"Percent\")\n",
    "\n",
    "plt.plot(confirmed_mas_weekly[\"Date\"], confirmed_mas_weekly[\"Normalized\"])\n",
    "for i in range(1, 4, 1):\n",
    "    plt.plot(confirmed_mas_weekly[\"Date\"], confirmed_mas_weekly[str(i)])\n",
    "plt.legend([\"Confirmed Cases\", \"Positive Tweets\", \"Neutral Tweets\", \"Negative Tweets\"])\n",
    "\n",
    "plt.show()"
   ]
  }
 ],
 "metadata": {
  "kernelspec": {
   "display_name": "Python 3",
   "language": "python",
   "name": "python3"
  },
  "language_info": {
   "codemirror_mode": {
    "name": "ipython",
    "version": 3
   },
   "file_extension": ".py",
   "mimetype": "text/x-python",
   "name": "python",
   "nbconvert_exporter": "python",
   "pygments_lexer": "ipython3",
   "version": "3.7.4"
  }
 },
 "nbformat": 4,
 "nbformat_minor": 2
}
